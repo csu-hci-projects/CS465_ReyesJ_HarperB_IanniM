{
 "cells": [
  {
   "cell_type": "code",
   "execution_count": 17,
   "metadata": {},
   "outputs": [],
   "source": [
    "import pandas as pd\n",
    "import re\n",
    "from pathlib import Path\n",
    "\n",
    "\n",
    "desktop_path = Path(\"/Users/compiling/Desktop/CS465_Data_Analysis/Destop_Experiment.txt\")\n",
    "vr_path = Path(\"/Users/compiling/Desktop/CS465_Data_Analysis/VR_Experiment.txt\")\n",
    "\n",
    "with open(desktop_path, 'r') as f:\n",
    "    desktop_data = f.read()\n",
    "\n",
    "with open(vr_path, 'r') as f:\n",
    "    vr_data = f.read()\n",
    "\n",
    "\n",
    "participant_blocks = {\n",
    "    \"Desktop\": re.findall(r\"PARTICPANT #[\\s\\S]*?(?=PARTICPANT|\\Z)\", desktop_data),\n",
    "    \"VR\": re.findall(r\"PARTICPANT #[\\s\\S]*?(?=PARTICPANT|\\Z)\", vr_data)\n",
    "}\n",
    "\n",
    "\n",
    "rows = []\n",
    "\n",
    "\n",
    "def extract_participant_data(blocks, condition):\n",
    "    for block in blocks:\n",
    "        participant_match = re.search(r\"PARTICPANT #(\\d+(?:\\.\\d)?)\", block)\n",
    "        participant_id = int(float(participant_match.group(1))) if participant_match else -1\n",
    "        tasks = re.findall(\n",
    "            r\"Task: (\\d+)\\nWPM: ([\\d.]+)\\nAccuracy: ([\\d.]+)\\nIncorrections: (\\d+)\\nTime: ([\\d.]+)\",\n",
    "            block\n",
    "        )\n",
    "        for task_num, wpm, acc, errors, time in tasks:\n",
    "            rows.append({\n",
    "                \"Participant\": participant_id,\n",
    "                \"Task\": int(task_num),\n",
    "                \"Condition\": condition,\n",
    "                \"WPM\": float(wpm),\n",
    "                \"Accuracy\": float(acc),\n",
    "                \"Errors\": int(errors),\n",
    "                \"Time\": float(time)\n",
    "            })\n",
    "\n",
    "\n",
    "extract_participant_data(participant_blocks[\"Desktop\"], \"Desktop\")\n",
    "extract_participant_data(participant_blocks[\"VR\"], \"VR_Handless\")  # Inverting as per user\n",
    "extract_participant_data(participant_blocks[\"VR\"], \"VR_Hands\")     # Inverting as per user\n",
    "\n",
    "\n",
    "df = pd.DataFrame(rows)\n",
    "\n",
    "\n",
    "participant_counts = df[\"Participant\"].value_counts().sort_index()\n",
    "\n"
   ]
  },
  {
   "cell_type": "code",
   "execution_count": 18,
   "metadata": {},
   "outputs": [
    {
     "name": "stdout",
     "output_type": "stream",
     "text": [
      "     Participant  Task Condition   WPM  Accuracy  Errors        Time\n",
      "0              1     1   Desktop  81.0  0.989362       1   13.223040\n",
      "1              1     2   Desktop  62.0  0.979798       2   17.193138\n",
      "2              1     3   Desktop  43.0  0.935185       7   20.450686\n",
      "3              1     4   Desktop  55.0  0.991453       1   24.575850\n",
      "4              1     5   Desktop  48.0  0.983607       2   28.009271\n",
      "..           ...   ...       ...   ...       ...     ...         ...\n",
      "591           12     4  VR_Hands   0.0  0.318966      79  126.416637\n",
      "592           12     5  VR_Hands   0.0  0.475410      64  179.858056\n",
      "593           12     6  VR_Hands   0.0  0.125984     111   97.759663\n",
      "594           12     7  VR_Hands   0.0  0.112782     118  151.102585\n",
      "595           12     8  VR_Hands   0.0  0.210938     101  162.723556\n",
      "\n",
      "[596 rows x 7 columns]\n"
     ]
    }
   ],
   "source": [
    "print(df)"
   ]
  },
  {
   "cell_type": "code",
   "execution_count": 20,
   "metadata": {},
   "outputs": [],
   "source": [
    "import pandas as pd\n",
    "\n",
    "\n",
    "df = pd.read_csv(\"/Users/compiling/Desktop/CS465_Data_Analysis/Formatted_Experiment_Data_FIXED.txt\", sep='\\t')\n",
    "\n",
    "\n",
    "df.rename(columns={\"Participant\": \"Subject\"}, inplace=True)\n",
    "\n",
    "\n",
    "df = df[[\"Subject\", \"Task\", \"Condition\", \"WPM\", \"Accuracy\", \"Errors\", \"Time\"]]\n",
    "\n",
    "\n",
    "df.to_csv(\"/Users/compiling/Desktop/CS465_Data_Analysis/Formatted_Experiment_Data_FINAL.txt\", sep='\\t', index=False)\n"
   ]
  },
  {
   "cell_type": "code",
   "execution_count": 24,
   "metadata": {},
   "outputs": [
    {
     "name": "stdout",
     "output_type": "stream",
     "text": [
      "Saved: friedman_wpm.txt\n",
      "Saved: friedman_accuracy.txt\n",
      "Saved: friedman_errors.txt\n",
      "Saved: friedman_time.txt\n"
     ]
    }
   ],
   "source": [
    "\n",
    "\n",
    "\n",
    "df = pd.read_csv(\"Formatted_Experiment_Data_FINAL.txt\", sep=\"\\t\")\n",
    "\n",
    "\n",
    "df = df.drop_duplicates(subset=[\"Subject\", \"Task\", \"Condition\"])\n",
    "\n",
    "\n",
    "target_conditions = [\"Desktop\", \"VR_Hands\", \"VR_Handless\"]\n",
    "df = df[df[\"Condition\"].isin(target_conditions)]\n",
    "\n",
    "\n",
    "metrics = [\"WPM\", \"Accuracy\", \"Errors\", \"Time\"]\n",
    "\n",
    "for metric in metrics:\n",
    "    pivot = df.pivot_table(index='Subject', columns='Condition', values=metric, aggfunc='mean')\n",
    "    pivot = pivot.dropna() \n",
    "    filename = f\"friedman_{metric.lower()}.txt\"\n",
    "    pivot.to_csv(filename, sep=\"\\t\", index=False)\n",
    "    print(f\"Saved: {filename}\")\n"
   ]
  }
 ],
 "metadata": {
  "kernelspec": {
   "display_name": "Python 3",
   "language": "python",
   "name": "python3"
  },
  "language_info": {
   "codemirror_mode": {
    "name": "ipython",
    "version": 3
   },
   "file_extension": ".py",
   "mimetype": "text/x-python",
   "name": "python",
   "nbconvert_exporter": "python",
   "pygments_lexer": "ipython3",
   "version": "3.13.1"
  }
 },
 "nbformat": 4,
 "nbformat_minor": 2
}
